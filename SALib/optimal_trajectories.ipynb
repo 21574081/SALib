{
 "metadata": {
  "name": "optimal_trajectories.ipynb"
 },
 "nbformat": 3,
 "nbformat_minor": 0,
 "worksheets": [
  {
   "cells": [
    {
     "cell_type": "code",
     "collapsed": false,
     "input": [
      "import sys\n",
      "sys.path[0] = '/Users/will2/repository/SALib/SALib'\n",
      "%cd /Users/will2/repository/SALib/SALib\n",
      "from itertools import combinations\n",
      "import matplotlib.pyplot as plt\n",
      "import numpy as np\n",
      "from scipy.spatial.distance import cdist\n",
      "from esme import morris_sample, compute_distance_matrix, nth, find_maximum, find_most_distant"
     ],
     "language": "python",
     "metadata": {},
     "outputs": [
      {
       "output_type": "stream",
       "stream": "stdout",
       "text": [
        "/Users/will2/repository/SALib/SALib\n"
       ]
      }
     ],
     "prompt_number": 2
    },
    {
     "cell_type": "code",
     "collapsed": false,
     "input": [
      "N = 10\n",
      "levels = 4\n",
      "step = 2\n",
      "num_params = 2\n",
      "bounds = [[0,1],[0,1]]\n",
      "k_choices = 4\n",
      "\n",
      "input_sample = morris_sample(N, num_params, bounds, levels, step,2345748570847587)\n",
      "distance_matrix = compute_distance_matrix(input_sample, N, num_params)\n",
      "print distance_matrix"
     ],
     "language": "python",
     "metadata": {},
     "outputs": [
      {
       "output_type": "stream",
       "stream": "stdout",
       "text": [
        "[[ 0.          0.          0.          0.          0.          0.          0.\n",
        "   0.          0.          0.        ]\n",
        " [ 4.55228472  0.          0.          0.          0.          0.          0.\n",
        "   0.          0.          0.        ]\n",
        " [ 4.55228472  4.55228472  0.          0.          0.          0.          0.\n",
        "   0.          0.          0.        ]\n",
        " [ 5.21895123  5.21895123  5.21895123  0.          0.          0.          0.\n",
        "   0.          0.          0.        ]\n",
        " [ 6.35082579  6.35082579  6.35082579  5.99070501  0.          0.          0.\n",
        "   0.          0.          0.        ]\n",
        " [ 5.77125168  5.77125168  5.77125168  6.18327427  5.77125168  0.          0.\n",
        "   0.          0.          0.        ]\n",
        " [ 7.30643559  7.30643559  7.30643559  6.18327427  7.30643559  8.68157768\n",
        "   0.          0.          0.          0.        ]\n",
        " [ 5.21895123  5.21895123  5.21895123  5.49509382  7.51620197  6.89441299\n",
        "   6.89441299  0.          0.          0.        ]\n",
        " [ 5.51660776  5.51660776  5.51660776  5.31475735  5.51660776  5.49509382\n",
        "   6.57339287  6.18327427  0.          0.        ]\n",
        " [ 6.18327427  6.18327427  6.18327427  5.51660776  6.89441299  7.51620197\n",
        "   5.2189517   5.77125168  5.99070454  0.        ]]\n"
       ]
      }
     ],
     "prompt_number": 10
    },
    {
     "cell_type": "markdown",
     "metadata": {},
     "source": [
      "Maximise the root-square sum of scores $\\max \\sum ( \\sum_{ij} x_{ij}d_{ij}^2 )^\\frac{1}{2} \\quad \\forall \\quad i \\in I, j \\in J, i <> j$\n",
      "\n",
      "Select the combination of rows and columns $x_{ij} to maximise the scores.  Optimal solution must only use `k_choices` of the row/columns of the `distance_matrix`."
     ]
    },
    {
     "cell_type": "markdown",
     "metadata": {},
     "source": [
      "$\\sum (x_{12}d_{12}^2 + x_{13}d_{13}^2 + x_{14}d_{14}^2 + x_{23}d_{23}^2 + x_{24}d_{24}^2+ x_{34}d_{34}^2 )^\\frac{1}{2}$ where $\\sum x_{xy} = {{N}\\choose{k\\_choices}}$, $\\sum x_{i:} + \\sum x_{:j} = {{N} \\choose {k\\_choices}}$\n"
     ]
    },
    {
     "cell_type": "code",
     "collapsed": false,
     "input": [
      "print np.kron(np.eye(1,4),np.ones((1,4)))"
     ],
     "language": "python",
     "metadata": {},
     "outputs": [
      {
       "output_type": "stream",
       "stream": "stdout",
       "text": [
        "[[ 1.  1.  1.  1.  0.  0.  0.  0.  0.  0.  0.  0.  0.  0.  0.  0.]]\n"
       ]
      }
     ],
     "prompt_number": 526
    },
    {
     "cell_type": "code",
     "collapsed": false,
     "input": [
      "a = np.tril(np.ones((N,N)),-1)\n",
      "print a"
     ],
     "language": "python",
     "metadata": {},
     "outputs": [
      {
       "output_type": "stream",
       "stream": "stdout",
       "text": [
        "[[ 0.  0.  0.  0.  0.  0.]\n",
        " [ 1.  0.  0.  0.  0.  0.]\n",
        " [ 1.  1.  0.  0.  0.  0.]\n",
        " [ 1.  1.  1.  0.  0.  0.]\n",
        " [ 1.  1.  1.  1.  0.  0.]\n",
        " [ 1.  1.  1.  1.  1.  0.]]\n"
       ]
      }
     ],
     "prompt_number": 527
    },
    {
     "cell_type": "code",
     "collapsed": false,
     "input": [
      "from math import factorial\n",
      "def choose(n, k):\n",
      "    numerator = factorial(n)\n",
      "    denominator = (factorial(k) * factorial(n - k))\n",
      "    answer = numerator / denominator\n",
      "    return answer\n",
      "\n",
      "print choose(N, k_choices)\n",
      "print choose(k_choices, 2)"
     ],
     "language": "python",
     "metadata": {},
     "outputs": [
      {
       "output_type": "stream",
       "stream": "stdout",
       "text": [
        "210\n",
        "6\n"
       ]
      }
     ],
     "prompt_number": 11
    },
    {
     "cell_type": "code",
     "collapsed": false,
     "input": [
      "# np.sum(a[:,2] + a[2,:])  == choose(k_choices, 2)\n",
      "(a[:,0] + a[0,:].T)"
     ],
     "language": "python",
     "metadata": {},
     "outputs": [
      {
       "metadata": {},
       "output_type": "pyout",
       "prompt_number": 529,
       "text": [
        "array([ 0.,  1.,  1.,  1.,  1.,  1.])"
       ]
      }
     ],
     "prompt_number": 529
    },
    {
     "cell_type": "code",
     "collapsed": false,
     "input": [
      "c = [ x for x in combinations(range(N),3)]\n",
      "for x in c:\n",
      "     print x"
     ],
     "language": "python",
     "metadata": {},
     "outputs": [
      {
       "output_type": "stream",
       "stream": "stdout",
       "text": [
        "(0, 1, 2)\n",
        "(0, 1, 3)\n",
        "(0, 1, 4)\n",
        "(0, 1, 5)\n",
        "(0, 2, 3)\n",
        "(0, 2, 4)\n",
        "(0, 2, 5)\n",
        "(0, 3, 4)\n",
        "(0, 3, 5)\n",
        "(0, 4, 5)\n",
        "(1, 2, 3)\n",
        "(1, 2, 4)\n",
        "(1, 2, 5)\n",
        "(1, 3, 4)\n",
        "(1, 3, 5)\n",
        "(1, 4, 5)\n",
        "(2, 3, 4)\n",
        "(2, 3, 5)\n",
        "(2, 4, 5)\n",
        "(3, 4, 5)\n"
       ]
      }
     ],
     "prompt_number": 530
    },
    {
     "cell_type": "markdown",
     "metadata": {},
     "source": [
      "The `a` matrix contains a 1 for each possible binary variable, but only ${k\\_choices \\choose 2}$ of these can be selected."
     ]
    },
    {
     "cell_type": "code",
     "collapsed": false,
     "input": [
      "print a #+ a.T"
     ],
     "language": "python",
     "metadata": {},
     "outputs": [
      {
       "output_type": "stream",
       "stream": "stdout",
       "text": [
        "[[ 0.  0.  0.  0.  0.  0.]\n",
        " [ 1.  0.  0.  0.  0.  0.]\n",
        " [ 1.  1.  0.  0.  0.  0.]\n",
        " [ 1.  1.  1.  0.  0.  0.]\n",
        " [ 1.  1.  1.  1.  0.  0.]\n",
        " [ 1.  1.  1.  1.  1.  0.]]\n"
       ]
      }
     ],
     "prompt_number": 531
    },
    {
     "cell_type": "markdown",
     "metadata": {},
     "source": [
      "Also, if $x_{12}$ is selected, then trajectory 2 is part of the solution, so we need a constraint which enforces that all the x's with an index of 2 are included.\n",
      "\n",
      "$x_{12} = x_{13} = x_{14} = x_{23} = x_{24} = x_{34}$"
     ]
    },
    {
     "cell_type": "code",
     "collapsed": false,
     "input": [
      "print a[:,[1,3,4]].T + a[[1,3,4],:] "
     ],
     "language": "python",
     "metadata": {},
     "outputs": [
      {
       "output_type": "stream",
       "stream": "stdout",
       "text": [
        "[[ 1.  0.  1.  1.  1.  1.]\n",
        " [ 1.  1.  1.  0.  1.  1.]\n",
        " [ 1.  1.  1.  1.  0.  1.]]\n"
       ]
      }
     ],
     "prompt_number": 532
    },
    {
     "cell_type": "markdown",
     "metadata": {},
     "source": [
      "Can only select $k\\_choices \\choose N$ columns/rows in the distance_matrix.\n",
      "\n",
      "$i \\in \\{1,N\\}, j \\in \\{1,N\\}, j > i$\n",
      "\n",
      "$y_i = \\sum_j^J x_{ij}$\n",
      "\n",
      "$\\sum_i^I y_i = $ `k_choices`\n",
      "\n",
      "Alternative:\n",
      "\n",
      "$N$ possible constraints of which only $K$ must hold.\n",
      "\n",
      "$f(x_1 ... x_n) \\leq d_1 + M y_1$\n",
      "\n",
      "$f(x_1 ... x_n) \\leq d_2 + M y_2$\n",
      "\n",
      "$\\sum_{i=1}^N y_i = N - K$\n",
      "\n",
      "$\\sum_j^J x_{ij} + x_{ji} = $ `k_choices` $ + M y_i$\n",
      "\n",
      "$\\sum_{i=1}^N y_i = $ `N` $-$ `k_choices`\n"
     ]
    },
    {
     "cell_type": "code",
     "collapsed": false,
     "input": [
      "from gurobipy import *"
     ],
     "language": "python",
     "metadata": {},
     "outputs": [],
     "prompt_number": 12
    },
    {
     "cell_type": "code",
     "collapsed": false,
     "input": [
      "N = 100\n",
      "levels = 4\n",
      "step = 2\n",
      "num_params = 30\n",
      "bounds = np.repeat([[0.,1.]],29,0).tolist()\n",
      "k_choices = 8\n",
      "\n",
      "input_sample = morris_sample(N, num_params, bounds, levels, step, 14824587345724249087)\n",
      "distance_matrix = compute_distance_matrix(input_sample, N, num_params)"
     ],
     "language": "python",
     "metadata": {},
     "outputs": [],
     "prompt_number": 31
    },
    {
     "cell_type": "code",
     "collapsed": false,
     "input": [
      "m = Model(\"distance1\")\n",
      "I = range(N)\n",
      "J = range(N)\n",
      "\n",
      "big_M = 1e3\n",
      "\n",
      "dm=distance_matrix**2\n",
      "\n",
      "ij = tuplelist([(i,j) for i in I for j in range(i+1,N)])\n",
      "# print ij\n",
      "\n",
      "y,x = {},{}\n",
      "for i in I:\n",
      "    y[i] = m.addVar(vtype=\"B\", obj=0, name=\"y[%s]\" % i)\n",
      "    for j in range(i+1, N):\n",
      "          x[i,j] = m.addVar(vtype=\"B\", obj=1.0, name=\"x[%s,%s]\" % (i, j))\n",
      "m.update()        \n",
      "\n",
      "m.setObjective(quicksum([x[i, j] * dm[j][i] for i in I for j in range(i+1,N)]))\n",
      "\n",
      "m.addConstr(quicksum([x[i, j] for i in I for j in range(i+1,N)]) == choose(k_choices, 2), \"All\")\n",
      "\n",
      "# Tried an approach with dependancy links, but these are too strict\n",
      "# for i in range(1,N):\n",
      "#     for j in range(i+1, N):\n",
      "#         if ((i==0) & (j==1)):\n",
      "#             pass\n",
      "#         else:\n",
      "#             m.addConstr( x[i, j] <= quicksum( x[k, i] for k in range(0, i)) \n",
      "#                                   + quicksum( x[k, j] for k in range(0, i))\n",
      "#                                   + quicksum( x[k, j] for k in range(i+1, j))\n",
      "#                                   , name=\"[%s%s]at_least\"%(i,j))\n",
      "#         for k in range(j+1, N):\n",
      "#             m.addConstr( (x[i, j] ) <= (x[i, j] + x[i, k]), \"Equiv[%s%s][%s%s][%s%s]\"%(i,j,i,k,j,k))\n",
      "#         m.addConstr( x[i, j] >= quicksum(x[j, k] for k in range(j+1, N)))  \n",
      "\n",
      "# Use triangles through pairs of (x[i,j], x[i,k]) forcing a third x[j,k]\n",
      "for i in I:\n",
      "    for j in range(i+1, N-1):\n",
      "        for k in range(j+1, N):\n",
      "            m.addConstr(x[j, k] + 1 >= (x[i, j] + x[i, k]), \"Equiv[%s,%s]<-[%s,%s]&[%s,%s]\"%(j,k,i,j,i,k))\n",
      "            m.addConstr(x[i, k] + 1 >= (x[i, j] + x[j, k]), \"Equiv[%s,%s]<-[%s,%s]&[%s,%s]\"%(i,k,i,j,j,k))\n",
      "            m.addConstr(x[i, j] + 1 >= (x[i, k] + x[j, k]), \"Equiv[%s,%s]<-[%s,%s]&[%s,%s]\"%(i,j,i,k,j,k))\n",
      "    # Finally, each combination may only appear three times in the combination list\n",
      "\n",
      "for i in I:\n",
      "    m.addConstr( quicksum(x[i, j] for j in range(i+1,N)) + quicksum(x[k, i] for k in range(0,i)),\n",
      "                '<=', \n",
      "                (k_choices - 1) + (y[i] * big_M), \n",
      "                \"Only three[%s]\"%i)\n",
      "    m.addConstr( quicksum(x[i, j] for j in range(i+1,N)) + quicksum(x[k, i] for k in range(0,i)) + (y[i] * big_M),\n",
      "                '>=', \n",
      "                (k_choices - 1), \n",
      "                \"Only three[%s]\"%i)\n",
      "\n",
      "m.addConstr( quicksum( y[i] for i in I ), \"==\", N - k_choices, name=\"Only %s hold\" % (N-k_choices))\n",
      "\n",
      "            \n",
      "#         m.addConstr( x[i, j] >= quicksum( x[k, j] for k in range(0, j)))\n",
      "# for i in I:\n",
      "#     for k in range(0, i-1):\n",
      "#         m.addConstr( x[k, i] >= quicksum(x[j, i] for j in range(0, i-1)))\n",
      "# for i in I:\n",
      "#     for j in range(i+1, N-1):\n",
      "#         for k in range(j+1, N):\n",
      "#             m.addConstr(x[j,k] - x[i,j] <= 0, \"[%s%s]cond_on[%s%s]\"%(j,k,i,j))\n",
      "#             m.addConstr(x[j,k] - x[i,k] <= 0, \"[%s%s]cond_on[%s%s]\"%(j,k,i,k))\n",
      "\n",
      "# m.params.MarkowitzTol=1e-04\n",
      "# m.params.MIPGapAbs=0\n",
      "# m.params.MIPGap=0.05\n",
      "# m.params.FeasibilityTol=1e-09\n",
      "# m.params.OptimalityTol=1e-09\n",
      "# m.params.IntFeasTol=1e-9\n",
      "# m.params.cuts=0\n",
      "m.params.MIPFocus=1\n",
      "\n",
      "m.update()\n",
      "# m.write(\"file.lp\")\n",
      "\n",
      "m.ModelSense = GRB.MAXIMIZE\n",
      "m.optimize()"
     ],
     "language": "python",
     "metadata": {},
     "outputs": [
      {
       "output_type": "stream",
       "stream": "stdout",
       "text": [
        "Changed value of parameter MIPGap to 0.05\n",
        "   Prev: 0.0001   Min: 0.0   Max: 1e+100   Default: 0.0001\n",
        "Changed value of parameter MIPFocus to 1\n",
        "   Prev: 0   Min: 0   Max: 3   Default: 0\n",
        "Optimize a model with 485302 rows, 5050 columns and 1480350 nonzeros\n"
       ]
      },
      {
       "output_type": "stream",
       "stream": "stdout",
       "text": [
        "Found heuristic solution: objective 2.1331e+08\n"
       ]
      },
      {
       "output_type": "stream",
       "stream": "stdout",
       "text": [
        "Presolve time: 2.50s\n"
       ]
      },
      {
       "output_type": "stream",
       "stream": "stdout",
       "text": [
        "Presolved: 485302 rows, 5050 columns, 1480350 nonzeros\n"
       ]
      },
      {
       "output_type": "stream",
       "stream": "stdout",
       "text": [
        "Variable types: 0 continuous, 5050 integer (5050 binary)\n"
       ]
      },
      {
       "output_type": "stream",
       "stream": "stdout",
       "text": [
        "Presolved: 5050 rows, 490352 columns, 1485400 nonzeros\n"
       ]
      },
      {
       "output_type": "stream",
       "stream": "stdout",
       "text": [
        "\n"
       ]
      },
      {
       "output_type": "stream",
       "stream": "stdout",
       "text": [
        "Presolve removed 5050 rows and 490352 columns\n"
       ]
      },
      {
       "output_type": "stream",
       "stream": "stdout",
       "text": [
        "\n",
        "Root relaxation: objective 2.761130e+08, 219 iterations, 1.55 seconds\n"
       ]
      },
      {
       "output_type": "stream",
       "stream": "stdout",
       "text": [
        "Total elapsed time = 5.34s\n"
       ]
      },
      {
       "output_type": "stream",
       "stream": "stdout",
       "text": [
        "\n"
       ]
      },
      {
       "output_type": "stream",
       "stream": "stdout",
       "text": [
        "    Nodes    |    Current Node    |     Objective Bounds      |     Work\n"
       ]
      },
      {
       "output_type": "stream",
       "stream": "stdout",
       "text": [
        " Expl Unexpl |  Obj  Depth IntInf | Incumbent    BestBd   Gap | It/Node Time\n"
       ]
      },
      {
       "output_type": "stream",
       "stream": "stdout",
       "text": [
        "\n"
       ]
      },
      {
       "output_type": "stream",
       "stream": "stdout",
       "text": [
        "     0     0 2.7611e+08    0   90 2.1331e+08 2.7611e+08  29.4%     -    5s\n"
       ]
      },
      {
       "output_type": "stream",
       "stream": "stdout",
       "text": [
        "H    0     0                    2.291464e+08 2.7611e+08  20.5%     -   10s\n"
       ]
      },
      {
       "output_type": "stream",
       "stream": "stdout",
       "text": [
        "     0     0 2.7093e+08    0  120 2.2915e+08 2.7093e+08  18.2%     -   11s\n"
       ]
      },
      {
       "output_type": "stream",
       "stream": "stdout",
       "text": [
        "     0     0 2.6774e+08    0  132 2.2915e+08 2.6774e+08  16.8%     -   14s\n"
       ]
      },
      {
       "output_type": "stream",
       "stream": "stdout",
       "text": [
        "     0     0 2.6649e+08    0  161 2.2915e+08 2.6649e+08  16.3%     -   17s\n"
       ]
      },
      {
       "output_type": "stream",
       "stream": "stdout",
       "text": [
        "     0     0 2.6566e+08    0  169 2.2915e+08 2.6566e+08  15.9%     -   21s\n"
       ]
      },
      {
       "output_type": "stream",
       "stream": "stdout",
       "text": [
        "     0     0 2.6512e+08    0  175 2.2915e+08 2.6512e+08  15.7%     -   27s\n"
       ]
      },
      {
       "output_type": "stream",
       "stream": "stdout",
       "text": [
        "H    0     0                    2.322603e+08 2.6512e+08  14.1%     -   29s\n"
       ]
      },
      {
       "output_type": "stream",
       "stream": "stdout",
       "text": [
        "     0     2 2.6512e+08    0  175 2.3226e+08 2.6512e+08  14.1%     -   40s\n"
       ]
      },
      {
       "output_type": "stream",
       "stream": "stdout",
       "text": [
        "     2     3 2.6489e+08    1  172 2.3226e+08 2.6489e+08  14.0%   185   45s\n"
       ]
      },
      {
       "output_type": "stream",
       "stream": "stdout",
       "text": [
        "     3     4 2.6123e+08    2  124 2.3226e+08 2.6488e+08  14.0%   330   51s\n"
       ]
      },
      {
       "output_type": "stream",
       "stream": "stdout",
       "text": [
        "     5     6 2.6379e+08    3  140 2.3226e+08 2.6462e+08  13.9%   258   56s\n"
       ]
      },
      {
       "output_type": "stream",
       "stream": "stdout",
       "text": [
        "H    6     6                    2.330240e+08 2.6462e+08  13.6%   215   60s\n"
       ]
      },
      {
       "output_type": "stream",
       "stream": "stdout",
       "text": [
        "    11    14 2.6231e+08    6  140 2.3302e+08 2.6462e+08  13.6%   223   67s\n"
       ]
      },
      {
       "output_type": "stream",
       "stream": "stdout",
       "text": [
        "    15    18 2.6174e+08    7  142 2.3302e+08 2.6462e+08  13.6%   207   70s\n"
       ]
      },
      {
       "output_type": "stream",
       "stream": "stdout",
       "text": [
        "    20    24 2.6083e+08    7  120 2.3302e+08 2.6446e+08  13.5%   187   75s\n"
       ]
      },
      {
       "output_type": "stream",
       "stream": "stdout",
       "text": [
        "    27    30 2.5996e+08    8  122 2.3302e+08 2.6446e+08  13.5%   192  136s\n"
       ]
      },
      {
       "output_type": "stream",
       "stream": "stdout",
       "text": [
        "H   28    31                    2.498797e+08 2.6446e+08  5.84%   185  136s\n"
       ]
      },
      {
       "output_type": "stream",
       "stream": "stdout",
       "text": [
        "    34    35 2.5885e+08    9  105 2.4988e+08 2.6446e+08  5.84%   180  142s\n"
       ]
      },
      {
       "output_type": "stream",
       "stream": "stdout",
       "text": [
        "    49    44 2.6272e+08    6  141 2.4988e+08 2.6446e+08  5.84%   159  145s\n"
       ]
      },
      {
       "output_type": "stream",
       "stream": "stdout",
       "text": [
        "    66    49 2.5674e+08   12  102 2.4988e+08 2.6443e+08  5.82%   140  157s\n"
       ]
      },
      {
       "output_type": "stream",
       "stream": "stdout",
       "text": [
        "    75    52     cutoff   13      2.4988e+08 2.6443e+08  5.82%   129  160s\n"
       ]
      },
      {
       "output_type": "stream",
       "stream": "stdout",
       "text": [
        "    92    57     cutoff   14      2.4988e+08 2.6443e+08  5.82%   121  168s\n"
       ]
      },
      {
       "output_type": "stream",
       "stream": "stdout",
       "text": [
        "   101    43     cutoff   14      2.4988e+08 2.6443e+08  5.82%   122  288s\n"
       ]
      },
      {
       "output_type": "stream",
       "stream": "stdout",
       "text": [
        "   634   331     cutoff   16      2.4988e+08 2.6412e+08  5.70%  74.5  350s\n"
       ]
      },
      {
       "output_type": "stream",
       "stream": "stdout",
       "text": [
        "H  673   352                    2.501326e+08 2.6412e+08  5.59%  74.0  350s\n"
       ]
      },
      {
       "output_type": "stream",
       "stream": "stdout",
       "text": [
        "   702   371     cutoff   17      2.5013e+08 2.6386e+08  5.49%  73.9  379s\n"
       ]
      },
      {
       "output_type": "stream",
       "stream": "stdout",
       "text": [
        "   834   404 2.5862e+08   14  119 2.5013e+08 2.6385e+08  5.49%  74.8  415s\n"
       ]
      },
      {
       "output_type": "stream",
       "stream": "stdout",
       "text": [
        "   910   449     cutoff   25      2.5013e+08 2.6385e+08  5.49%  79.1  630s\n"
       ]
      },
      {
       "output_type": "stream",
       "stream": "stdout",
       "text": [
        "H  911   427                    2.512746e+08 2.6385e+08  5.01%  79.0  631s\n"
       ]
      },
      {
       "output_type": "stream",
       "stream": "stdout",
       "text": [
        "H  922   428                    2.513519e+08 2.6385e+08  4.97%  79.5  631s\n"
       ]
      },
      {
       "output_type": "stream",
       "stream": "stdout",
       "text": [
        "H  923   428                    2.513769e+08 2.6385e+08  4.96%  79.5  631s\n"
       ]
      },
      {
       "output_type": "stream",
       "stream": "stdout",
       "text": [
        "\n"
       ]
      },
      {
       "output_type": "stream",
       "stream": "stdout",
       "text": [
        "Cutting planes:\n"
       ]
      },
      {
       "output_type": "stream",
       "stream": "stdout",
       "text": [
        "  Gomory: 11\n"
       ]
      },
      {
       "output_type": "stream",
       "stream": "stdout",
       "text": [
        "  Cover: 49\n"
       ]
      },
      {
       "output_type": "stream",
       "stream": "stdout",
       "text": [
        "  MIR: 129\n"
       ]
      },
      {
       "output_type": "stream",
       "stream": "stdout",
       "text": [
        "  Zero half: 25\n"
       ]
      },
      {
       "output_type": "stream",
       "stream": "stdout",
       "text": [
        "\n",
        "Explored 924 nodes (74970 simplex iterations) in 632.50 seconds\n"
       ]
      },
      {
       "output_type": "stream",
       "stream": "stdout",
       "text": [
        "Thread count was 8 (of 8 available processors)\n"
       ]
      },
      {
       "output_type": "stream",
       "stream": "stdout",
       "text": [
        "\n"
       ]
      },
      {
       "output_type": "stream",
       "stream": "stdout",
       "text": [
        "Optimal solution found (tolerance 5.00e-02)\n"
       ]
      },
      {
       "output_type": "stream",
       "stream": "stdout",
       "text": [
        "Best objective 2.513769300001e+08, best bound 2.638549881254e+08, gap 4.9639%\n"
       ]
      }
     ],
     "prompt_number": 32
    },
    {
     "cell_type": "code",
     "collapsed": false,
     "input": [
      "output = 0\n",
      "for i in I:\n",
      "    for j in range(i+1, N):\n",
      "        if x[i, j].x > 0.1:\n",
      "            print ([i, j], x[i,j].varName, x[i,j].obj, x[i,j].x)\n",
      "            output += x[i, j].obj\n",
      "print \"Score \", sqrt(output), sqrt(m.objval)"
     ],
     "language": "python",
     "metadata": {},
     "outputs": [
      {
       "output_type": "stream",
       "stream": "stdout",
       "text": [
        "([0, 15], u'x[0,15]', 9783924.0, 1.0)\n",
        "([0, 20], u'x[0,20]', 9453471.0, 0.9999999999994638)\n",
        "([0, 40], u'x[0,40]', 9361655.0, 1.000000000002667)\n",
        "([0, 60], u'x[0,60]', 7715196.5, 1.0000000000054927)\n",
        "([0, 67], u'x[0,67]', 9748416.0, 1.0)\n",
        "([0, 70], u'x[0,70]', 9851496.0, 1.0000000000182956)\n",
        "([0, 96], u'x[0,96]', 8928768.0, 1.00000000000954)\n",
        "([15, 20], u'x[15,20]', 9124610.0, 1.0)\n",
        "([15, 40], u'x[15,40]', 9608049.0, 1.000000000003266)\n",
        "([15, 60], u'x[15,60]', 8266946.0, 1.0000000000054927)\n",
        "([15, 67], u'x[15,67]', 8409364.0, 1.0)\n",
        "([15, 70], u'x[15,70]', 7618116.0, 1.0000000000182956)\n",
        "([15, 96], u'x[15,96]', 8824317.0, 1.00000000000954)\n",
        "([20, 40], u'x[20,40]', 8554514.0, 1.000000000002732)\n",
        "([20, 60], u'x[20,60]', 9133155.0, 1.0000000000058515)\n",
        "([20, 67], u'x[20,67]', 9221496.0, 1.0)\n",
        "([20, 70], u'x[20,70]', 9196622.0, 1.0000000000188314)\n",
        "([20, 96], u'x[20,96]', 8387970.0, 1.0000000000135798)\n",
        "([40, 60], u'x[40,60]', 9164158.0, 0.9999999999981862)\n",
        "([40, 67], u'x[40,67]', 8964103.0, 1.000000000003266)\n",
        "([40, 70], u'x[40,70]', 8749059.0, 0.9999999999946543)\n",
        "([40, 96], u'x[40,96]', 8977161.0, 1.0000000000168483)\n",
        "([60, 67], u'x[60,67]', 9137201.0, 1.0000000000014524)\n",
        "([60, 70], u'x[60,70]', 9251294.0, 0.9999999999928397)\n",
        "([60, 96], u'x[60,96]', 9393827.0, 1.000000000002042)\n",
        "([67, 70], u'x[67,70]', 8282094.5, 1.0000000000182956)\n",
        "([67, 96], u'x[67,96]', 9388087.0, 1.00000000000954)\n",
        "([70, 96], u'x[70,96]', 8881860.0, 0.9999999999945531)\n",
        "Score  15854.8708604 15854.8708604\n"
       ]
      }
     ],
     "prompt_number": 34
    },
    {
     "cell_type": "code",
     "collapsed": false,
     "input": [
      "scores = find_most_distant(input_sample, N, num_params, k_choices)\n",
      "expected = find_maximum(scores, N, k_choices)\n",
      "print expected\n",
      "print scores.argmax()\n",
      "# print zip([r for r in combinations(range(N),k_choices)],[h for h in scores])"
     ],
     "language": "python",
     "metadata": {},
     "outputs": [
      {
       "output_type": "stream",
       "stream": "stdout",
       "text": [
        "(0, 25, 40, 67)\n",
        "90281\n"
       ]
      }
     ],
     "prompt_number": 27
    },
    {
     "cell_type": "code",
     "collapsed": false,
     "input": [
      "# Each indices must appear 3 times..."
     ],
     "language": "python",
     "metadata": {},
     "outputs": [],
     "prompt_number": 16
    },
    {
     "cell_type": "code",
     "collapsed": false,
     "input": [
      "[np.argsort(scores)[::-1][:10]]"
     ],
     "language": "python",
     "metadata": {},
     "outputs": [
      {
       "metadata": {},
       "output_type": "pyout",
       "prompt_number": 17,
       "text": [
        "[array([2724462, 1319855, 3402879, 1300791, 2608024, 3196474,  190617,\n",
        "        243807,  190619, 3189531])]"
       ]
      }
     ],
     "prompt_number": 17
    },
    {
     "cell_type": "code",
     "collapsed": false,
     "input": [
      "# [(l.ConstrName, l.rhs, l.sense) for l in m.getConstrs()]\n",
      "# [ (var.varName, var.obj) for var in m.getVars()]\n",
      "# for c in m.getConstrs():\n",
      "#     for v in m.getVars():\n",
      "#         print (c.constrName, v.varName,  m.getCoeff(c, v))\n",
      "# choose(k_choices, 2)\n",
      "range(0,1)"
     ],
     "language": "python",
     "metadata": {},
     "outputs": [
      {
       "metadata": {},
       "output_type": "pyout",
       "prompt_number": 18,
       "text": [
        "[0]"
       ]
      }
     ],
     "prompt_number": 18
    },
    {
     "cell_type": "code",
     "collapsed": false,
     "input": [
      "for s in np.argsort(scores)[::-1][:100]:\n",
      "    print nth(combinations(range(N), k_choices), s), scores[s]"
     ],
     "language": "python",
     "metadata": {},
     "outputs": [
      {
       "output_type": "stream",
       "stream": "stdout",
       "text": [
        "(0, 25, 40, 67) 7543.91\n",
        "(0, 20, 23, 70) 7540.32\n",
        "(0, 15, 40, 77) 7536.87\n",
        "(0, 20, 23, 67) 7533.31\n",
        "(0, 20, 25, 67) 7525.75\n",
        "(0, 23, 25, 67) 7523.27\n",
        "(0, 25, 67, 96) 7520.76\n",
        "(0, 23, 67, 70) 7506.18\n",
        "(0, 40, 50, 67) 7505.25\n",
        "(0, 25, 67, 77) 7503.32\n",
        "(0, 1, 20, 23) 7496.43\n",
        "(0, 15, 52, 76) 7492.48\n",
        "(0, 15, 76, 77) 7491.24\n",
        "(0, 15, 40, 50) 7490.73\n",
        "(15, 38, 41, 96) 7486.44\n",
        "(0, 23, 41, 50) 7485.15\n",
        "(0, 21, 25, 67) 7481.63\n",
        "(0, 23, 70, 77) 7479.22\n",
        "(0, 1, 23, 70) 7478.38\n",
        "(0, 23, 49, 67) 7477.43\n",
        "(0, 15, 20, 40) 7475.71\n",
        "(0, 21, 23, 67) 7475.59\n",
        "(0, 15, 40, 67) 7474.99\n",
        "(0, 25, 50, 67) 7473.97\n",
        "(0, 21, 56, 77) 7473.81\n",
        "(25, 41, 67, 96)"
       ]
      },
      {
       "output_type": "stream",
       "stream": "stdout",
       "text": [
        " 7473.51\n",
        "(0, 7, 25, 67) 7472.5\n",
        "(0, 23, 50, 67) 7472.5\n",
        "(0, 40, 50, 70) 7470.76\n",
        "(0, 1, 23, 38) 7470.41\n",
        "(21, 38, 56, 96) 7470.05\n",
        "(0, 25, 67, 88) 7468.63\n",
        "(0, 15, 23, 38) 7467.65\n",
        "(0, 20, 67, 70) 7466.83\n",
        "(0, 21, 67, 77) 7466.15\n",
        "(0, 15, 20, 67) 7466.01\n",
        "(0, 23, 41, 96) 7464.8\n",
        "(25, 38, 41, 96)"
       ]
      },
      {
       "output_type": "stream",
       "stream": "stdout",
       "text": [
        " 7464.45\n",
        "(0, 20, 23, 89) 7463.3\n",
        "(0, 70, 76, 77) 7463.26\n",
        "(0, 14, 23, 67) 7463.15\n",
        "(15, 38, 40, 93) 7462.57\n",
        "(0, 23, 67, 96) 7462.41\n",
        "(20, 25, 67, 74)"
       ]
      },
      {
       "output_type": "stream",
       "stream": "stdout",
       "text": [
        " 7462.22\n",
        "(25, 67, 74, 96) 7462.14\n",
        "(0, 15, 77, 99) 7460.24\n",
        "(0, 20, 23, 41) 7460.2\n",
        "(40, 60, 67, 93)"
       ]
      },
      {
       "output_type": "stream",
       "stream": "stdout",
       "text": [
        " 7456.56\n",
        "(0, 1, 23, 55) 7455.67\n",
        "(0, 25, 67, 74) 7455.05\n",
        "(0, 25, 58, 67) 7455.02\n",
        "(0, 25, 34, 67) 7454.92\n",
        "(0, 23, 30, 99) 7454.9\n",
        "(0, 25, 45, 67) 7454.22\n",
        "(0, 23, 50, 70) 7454.15\n",
        "(0, 21, 67, 96) 7453.62\n",
        "(0, 15, 70, 77) 7453.07\n",
        "(0, 1, 23, 30) 7452.18\n",
        "(0, 23, 30, 70) 7451.69\n",
        "(15, 48, 63, 93) 7451.48\n",
        "(0, 20, 58, 67) 7451.41\n",
        "(0, 15, 20, 23) 7451.32\n",
        "(0, 15, 25, 67) 7450.97\n",
        "(0, 15, 52, 80) 7450.38\n",
        "(0, 1, 23, 89) 7449.2\n",
        "(0, 20, 21, 67) 7449.18\n",
        "(0, 15, 40, 96) 7448.75\n",
        "(0, 15, 67, 77) 7448.57\n",
        "(0, 40, 70, 77) 7448.09\n",
        "(0, 15, 36, 77) 7447.78\n",
        "(0, 21, 56, 96) 7447.75\n",
        "(0, 23, 41, 70) 7447.34\n",
        "(0, 25, 49, 67) 7447.02\n",
        "(10, 20, 67, 74)"
       ]
      },
      {
       "output_type": "stream",
       "stream": "stdout",
       "text": [
        " 7446.89\n",
        "(25, 40, 67, 96) 7446.34\n",
        "(0, 25, 41, 67) 7446.31\n",
        "(0, 14, 21, 67) 7446.15\n",
        "(25, 40, 50, 67)"
       ]
      },
      {
       "output_type": "stream",
       "stream": "stdout",
       "text": [
        " 7446.01\n",
        "(0, 15, 40, 93) 7445.72\n",
        "(0, 25, 41, 96) 7444.56\n",
        "(0, 21, 67, 70) 7444.28\n",
        "(0, 1, 23, 67) 7443.36\n",
        "(15, 36, 38, 96) 7442.83\n",
        "(0, 1, 23, 83) 7442.71\n",
        "(0, 15, 41, 96) 7442.43\n",
        "(0, 21, 42, 56) 7441.86\n",
        "(0, 1, 23, 41) 7441.73\n",
        "(0, 70, 76, 96) 7441.63\n",
        "(23, 38, 41, 96)"
       ]
      },
      {
       "output_type": "stream",
       "stream": "stdout",
       "text": [
        " 7441.01\n",
        "(0, 40, 67, 96) 7440.98\n",
        "(21, 41, 56, 96) 7440.14\n",
        "(0, 14, 25, 67) 7439.33\n",
        "(0, 23, 45, 70) 7439.27\n",
        "(0, 40, 67, 93) 7438.74\n",
        "(0, 23, 56, 70) 7437.32\n",
        "(0, 23, 70, 96) 7437.2\n",
        "(0, 21, 40, 67) 7437.05\n",
        "(0, 15, 41, 77) 7437.02\n",
        "(0, 20, 40, 67) 7436.64\n",
        "(0, 23, 70, 76) 7436.47\n"
       ]
      }
     ],
     "prompt_number": 28
    },
    {
     "cell_type": "code",
     "collapsed": false,
     "input": [
      "list(expected) == output"
     ],
     "language": "python",
     "metadata": {},
     "outputs": [
      {
       "metadata": {},
       "output_type": "pyout",
       "prompt_number": 482,
       "text": [
        "False"
       ]
      }
     ],
     "prompt_number": 482
    },
    {
     "cell_type": "code",
     "collapsed": false,
     "input": [],
     "language": "python",
     "metadata": {},
     "outputs": [],
     "prompt_number": 443
    },
    {
     "cell_type": "code",
     "collapsed": false,
     "input": [],
     "language": "python",
     "metadata": {},
     "outputs": [],
     "prompt_number": 393
    },
    {
     "cell_type": "code",
     "collapsed": false,
     "input": [],
     "language": "python",
     "metadata": {},
     "outputs": [],
     "prompt_number": 393
    },
    {
     "cell_type": "code",
     "collapsed": false,
     "input": [],
     "language": "python",
     "metadata": {},
     "outputs": [],
     "prompt_number": 393
    },
    {
     "cell_type": "code",
     "collapsed": false,
     "input": [],
     "language": "python",
     "metadata": {},
     "outputs": [],
     "prompt_number": 393
    },
    {
     "cell_type": "code",
     "collapsed": false,
     "input": [],
     "language": "python",
     "metadata": {},
     "outputs": [],
     "prompt_number": 393
    },
    {
     "cell_type": "code",
     "collapsed": false,
     "input": [],
     "language": "python",
     "metadata": {},
     "outputs": [],
     "prompt_number": 393
    },
    {
     "cell_type": "code",
     "collapsed": false,
     "input": [],
     "language": "python",
     "metadata": {},
     "outputs": [],
     "prompt_number": 112
    },
    {
     "cell_type": "code",
     "collapsed": false,
     "input": [],
     "language": "python",
     "metadata": {},
     "outputs": []
    }
   ],
   "metadata": {}
  }
 ]
}